{
 "cells": [
  {
   "cell_type": "code",
   "execution_count": null,
   "id": "93862990",
   "metadata": {},
   "outputs": [],
   "source": []
  },
  {
   "cell_type": "code",
   "execution_count": 1,
   "id": "c6a14a20",
   "metadata": {},
   "outputs": [],
   "source": [
    "import torch\n",
    "from transformers import AutoTokenizer, AutoModelForSequenceClassification\n",
    "\n",
    "import json\n"
   ]
  },
  {
   "cell_type": "code",
   "execution_count": null,
   "id": "fad578d5",
   "metadata": {},
   "outputs": [],
   "source": [
    "modelName = \"nlptown/bert-base-multilingual-uncased-sentiment\"\n",
    "tokenizer = AutoTokenizer.from_pretrained(modelName)\n",
    "model = AutoModelForSequenceClassification.from_pretrained(modelName)"
   ]
  },
  {
   "cell_type": "code",
   "execution_count": null,
   "id": "e3eac197",
   "metadata": {},
   "outputs": [],
   "source": [
    "def calculateDailySentiment(headlines):\n",
    "    texts = [headline['heading'] for headline in headlines]\n",
    "    inputs = tokenizer(texts, return_tensors=\"pt\", truncation=True, padding=True, max_length=512, return_attention_mask=True)\n",
    "    outputs = model(**inputs)\n",
    "    logits = outputs.logits\n",
    "    scores = logits.softmax(dim=1)\n",
    "    averageScore = scores.mean(dim=0).tolist()\n",
    "    return averageScore\n",
    "#enddef\n",
    "\n",
    "\n",
    "\n",
    "def analyzeAndSaveSentiment(inputFile, outputFile):\n",
    "    with open(inputFile, 'r', encoding='utf-8') as file:  # Explicitly set encoding\n",
    "        data = json.load(file)  \n",
    "    #endwith\n",
    "\n",
    "    result = {}\n",
    "\n",
    "    for date, headlines in data.items():\n",
    "        averageScore = calculateDailySentiment(headlines)\n",
    "        print(f\"{date} > {averageScore}\")\n",
    "        result[date] = averageScore\n",
    "    #endfor\n",
    "\n",
    "with open(outputFile, 'w', encoding='utf-8') as file:  # Save output as UTF-8\n",
    "        json.dump(result, file, ensure_ascii=False, indent=4)\n",
    "    #endwith\n",
    "#enddef"
   ]
  },
  {
   "cell_type": "code",
   "execution_count": null,
   "id": "09129aea",
   "metadata": {},
   "outputs": [
    {
     "name": "stdout",
     "output_type": "stream",
     "text": [
      "2015-01-01 > [0.3070025146007538, 0.17011728882789612, 0.1548246145248413, 0.17130403220653534, 0.19675149023532867]\n",
      "2015-01-02 > [0.282503217458725, 0.15611004829406738, 0.18065740168094635, 0.19504718482494354, 0.18568213284015656]\n",
      "2015-01-03 > [0.32533952593803406, 0.14950305223464966, 0.15599913895130157, 0.18876515328884125, 0.18039311468601227]\n",
      "2015-01-04 > [0.32683512568473816, 0.17659184336662292, 0.17063122987747192, 0.17169800400733948, 0.15424379706382751]\n",
      "2015-01-05 > [0.3772907257080078, 0.14218366146087646, 0.14909176528453827, 0.17509512603282928, 0.15633872151374817]\n",
      "2015-01-06 > [0.28608688712120056, 0.14581941068172455, 0.1645268052816391, 0.19867727160453796, 0.20488962531089783]\n",
      "2015-01-07 > [0.27082398533821106, 0.15743444859981537, 0.17185550928115845, 0.18497620522975922, 0.21490982174873352]\n",
      "2015-01-08 > [0.34370890259742737, 0.15521517395973206, 0.14898774027824402, 0.1641693115234375, 0.18791890144348145]\n",
      "2015-01-09 > [0.3578956127166748, 0.16952630877494812, 0.15461333096027374, 0.15022660791873932, 0.16773809492588043]\n"
     ]
    }
   ],
   "source": [
    "\n",
    "inputFile = '/Users/ASUS/Documents/Stock-Prediction-using-News-Info-Sentiment-master/data/news2023/head_lines.json'\n",
    "outputFile = '/Users/ASUS/Documents/Stock-Prediction-using-News-Info-Sentiment-master/data/news2023/dailyscores.json'\n",
    "\n",
    "analyzeAndSaveSentiment(inputFile, outputFile)"
   ]
  },
  {
   "cell_type": "code",
   "execution_count": null,
   "id": "69aba7c6",
   "metadata": {},
   "outputs": [],
   "source": [
    "import json\n",
    "\n",
    "def analyzeAndSaveSentiment(inputFile, outputFile):\n",
    "    try:\n",
    "        with open(inputFile, 'r', encoding='utf-8') as file:  # Force UTF-8\n",
    "            data = json.load(file)\n",
    "    except UnicodeDecodeError:\n",
    "        print(\"Error: File encoding issue! Trying with 'utf-8-sig'...\")\n",
    "        with open(inputFile, 'r', encoding='utf-8-sig') as file:\n",
    "            data = json.load(file)\n",
    "\n",
    "    result = {}  # Your processing logic\n",
    "\n",
    "    with open(outputFile, 'w', encoding='utf-8') as file:\n",
    "        json.dump(result, file, indent=4)\n",
    "\n",
    "    print(\"Sentiment analysis complete! ✅\")\n"
   ]
  },
  {
   "cell_type": "code",
   "execution_count": null,
   "id": "2dfcff2a",
   "metadata": {},
   "outputs": [],
   "source": [
    "\n",
    "\n",
    "inputJsonFile = '/Users/ASUS/Documents/Stock-Prediction-using-News-Info-Sentiment-master/data/news2023/head_lines.json'\n",
    "outputJsonFile = '/Users/ASUS/Documents/Stock-Prediction-using-News-Info-Sentiment-master/data/news2023/dailyscores.json'\n",
    "\n",
    "analyzeAndSaveSentiment(inputJsonFile, outputJsonFile)"
   ]
  },
  {
   "cell_type": "code",
   "execution_count": null,
   "id": "886873a6",
   "metadata": {},
   "outputs": [],
   "source": []
  },
  {
   "cell_type": "code",
   "execution_count": null,
   "id": "a4dcf5ea",
   "metadata": {},
   "outputs": [],
   "source": []
  },
  {
   "cell_type": "code",
   "execution_count": null,
   "id": "324b2b0d",
   "metadata": {},
   "outputs": [],
   "source": []
  },
  {
   "cell_type": "code",
   "execution_count": null,
   "id": "e54fafdb",
   "metadata": {},
   "outputs": [],
   "source": []
  },
  {
   "cell_type": "code",
   "execution_count": null,
   "id": "d78dc75c",
   "metadata": {},
   "outputs": [],
   "source": []
  },
  {
   "cell_type": "code",
   "execution_count": null,
   "id": "8358d12d",
   "metadata": {},
   "outputs": [],
   "source": []
  },
  {
   "cell_type": "code",
   "execution_count": null,
   "id": "41379c92",
   "metadata": {},
   "outputs": [],
   "source": []
  },
  {
   "cell_type": "code",
   "execution_count": null,
   "id": "7558a36a",
   "metadata": {},
   "outputs": [],
   "source": []
  }
 ],
 "metadata": {
  "kernelspec": {
   "display_name": "Python 3 (ipykernel)",
   "language": "python",
   "name": "python3"
  },
  "language_info": {
   "codemirror_mode": {
    "name": "ipython",
    "version": 3
   },
   "file_extension": ".py",
   "mimetype": "text/x-python",
   "name": "python",
   "nbconvert_exporter": "python",
   "pygments_lexer": "ipython3",
   "version": "3.11.5"
  }
 },
 "nbformat": 4,
 "nbformat_minor": 5
}
